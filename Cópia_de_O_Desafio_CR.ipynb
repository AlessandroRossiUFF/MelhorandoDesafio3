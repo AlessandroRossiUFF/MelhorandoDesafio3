{
  "nbformat": 4,
  "nbformat_minor": 0,
  "metadata": {
    "colab": {
      "name": "Cópia de O Desafio.CR",
      "provenance": [],
      "collapsed_sections": [],
      "mount_file_id": "11QbTosrpQyxSdTjApiS2PfseNHmZFkUF",
      "authorship_tag": "ABX9TyPXPbAuHj0py3nFPUqyPmTZ",
      "include_colab_link": true
    },
    "kernelspec": {
      "display_name": "Python 3",
      "name": "python3"
    }
  },
  "cells": [
    {
      "cell_type": "markdown",
      "metadata": {
        "id": "view-in-github",
        "colab_type": "text"
      },
      "source": [
        "<a href=\"https://colab.research.google.com/github/AlessandroRossiUFF/MelhorandoDesafio3/blob/main/C%C3%B3pia_de_O_Desafio_CR.ipynb\" target=\"_parent\"><img src=\"https://colab.research.google.com/assets/colab-badge.svg\" alt=\"Open In Colab\"/></a>"
      ]
    },
    {
      "cell_type": "markdown",
      "metadata": {
        "id": "1yEzihxPlm5u"
      },
      "source": [
        "###Você precisa calcular o CR de alunos de uma universidade. Para isto será preciso ler de um arquivo csv a lista de notas dos alunos e, de acordo com as notas e os critérios da universidade, calcular o CR de todos os alunos. Ao final do processo, será preciso mostrar na tela o CR de todos os alunos e qual a média de CR dos cursos.\n",
        "\n",
        "Regras\n",
        "A nota do aluno vai de zero até 100;\n",
        "Uma nota é associada a uma disciplina e a um código de curso;\n",
        "O CR é a média ponderada da nota do aluno naquela turma com a carga horária daquela turma. O cálculo é:\n",
        "CR = Nota(i)*CargaHoraria(i)/TotalCargaHoraria\n",
        "\n",
        "i é a i-ésima turma de um aluno\n",
        "Utilizar Orientação a Objetos para resolver o problema\n",
        "Escolha a linguagem que achar adequada"
      ]
    },
    {
      "cell_type": "markdown",
      "metadata": {
        "id": "pzXfApTSG_PB"
      },
      "source": [
        "#Vamos começar declarando alguns elementos que serão necessários para desenvolver nosso código.\n"
      ]
    },
    {
      "cell_type": "code",
      "metadata": {
        "id": "b4sooRmGom7_"
      },
      "source": [
        "import pandas as pd\n",
        "dados = pd.read_csv(\"/content/drive/MyDrive/notas.csv\", usecols=[0, 1, 2, 3, 4])\n",
        "\n",
        "df_aluno = pd.DataFrame({'Matricula':[],'CR':[]\n",
        "                         })\n",
        "df_turma = pd.DataFrame({'CODIGO_DE_TURMA':[],'CR':[]\n",
        "                         })\n",
        "\n",
        "df_aluno['Matricula'] = dados['MATRICULA'].unique()\n",
        "df_turma['CODIGO_DE_TURMA'] = sorted(dados['COD_CURSO'].unique())\n",
        "\n",
        "class DataBase:\n",
        "\n",
        "  lista = dados\n",
        "  turmaT = dados['COD_CURSO']\n",
        "  turmaU = sorted(dados['COD_CURSO'].unique())         \n",
        "  matriculaT = dados['MATRICULA']\n",
        "  matriculaU = dados['MATRICULA'].unique()             \n",
        "  horas = dados['CARGA_HORARIA']\n",
        "  notas = dados['NOTA']\n",
        "  horasI = []\n",
        "  horasT = []\n",
        "\n",
        "  def CalculaCR(self, registroUnicos, registrosTotais, valorIndice, valorColuna, valorNotas, horas):\n",
        "    vI = []\n",
        "    vT = []\n",
        "    v = []\n",
        "    vH = valorIndice\n",
        "    for i in range(len(registroUnicos)):\n",
        "      for j in range(len(registrosTotais)):\n",
        "        if registroUnicos[i] == registrosTotais[j]: \n",
        "          v.append(dados.loc[j,'CARGA_HORARIA'])\n",
        "          dados.loc[j,'indice'] = registroUnicos[i]    #Nessa parte do método calculamos as horas totais\n",
        "      for j in range(len(registrosTotais)):\n",
        "        if registroUnicos[i] == registrosTotais[j]:     \n",
        "          dados.loc[j,'indice'] = sum(v)\n",
        "          s = 0\n",
        "          while s < len(v):\n",
        "            v[s] = 0\n",
        "            s += 1\n",
        "    valorColuna = dados['indice'].tolist()        \n",
        "    for i in range(len(valorColuna)):\n",
        "      if valorColuna[i] != 0:\n",
        "        vT.append(valorColuna[i])\n",
        "    valorColuna = vT\n",
        "\n",
        "    v = []\n",
        "    for i in range(len(registroUnicos)):        #nessa parte do método usamos as horas totais obtidas\n",
        "      cr = 0                                               #para calcular o CR\n",
        "      for j in range(len(registrosTotais)):\n",
        "        if registroUnicos[i] == registrosTotais[j]:\n",
        "          cr += (horas[j] * valorNotas[j]) / valorColuna[i]\n",
        "      v.append(cr)\n",
        "    return v\n",
        "            \n",
        "aluno = DataBase()\n",
        "turma = DataBase()"
      ],
      "execution_count": 707,
      "outputs": []
    },
    {
      "cell_type": "markdown",
      "metadata": {
        "id": "cAyiWrDgWsIX"
      },
      "source": [
        "##Com esse código passamos o CR obtido no módulo acima para o DataFrame que vai quardar as informações que vamos exibir."
      ]
    },
    {
      "cell_type": "code",
      "metadata": {
        "id": "zkefPtzbHWnk"
      },
      "source": [
        "cr = aluno.CalculaCR(aluno.matriculaU, aluno.matriculaT, aluno.horasI, aluno.horasT, aluno.notas, aluno.horas)\n",
        "for i in range(len(cr)):\n",
        "  cr[i] = int(cr[i])\n",
        "df_aluno['CR'] = cr"
      ],
      "execution_count": 708,
      "outputs": []
    },
    {
      "cell_type": "markdown",
      "metadata": {
        "id": "ulPo8m_GGsn1"
      },
      "source": [
        "#Agora vamos calcular o CR das turmas"
      ]
    },
    {
      "cell_type": "markdown",
      "metadata": {
        "id": "B0RA2h0fNrEG"
      },
      "source": [
        "Falta pouco para conseguir conseguir encaixar o código de calcular o CR das turmas para um módulo igual fiz com o CR dos alunos.Estou conseguindo receber um vetor com o valor das horas totais referentes a cada curso,porém,os valores dentro desse vetor estão fora da ordem certa (que eu sei pois já conseguir fazer tudo fora do módulo rs) e por isso o CR das turmas foi calculado fora da nossa classe apenas para exibição. \n",
        "Segue a baixo o código para exibir o CR das turmas."
      ]
    },
    {
      "cell_type": "markdown",
      "metadata": {
        "id": "lzf7N6eaaMZ3"
      },
      "source": [
        "Nessa primeira parte calculamos a quantidade de horas totais referentes a cada curso."
      ]
    },
    {
      "cell_type": "code",
      "metadata": {
        "id": "N0XGCf7qmbHm"
      },
      "source": [
        "u = []   #Vetores auxiliares que serão usados\n",
        "v = []   #apenas nesse bloco de código  \n",
        "x = []\n",
        "for i in range(len(turma.turmaU)):\n",
        "  for j in range(len(turma.lista)):\n",
        "    if turma.turmaU[i] == dados.loc[j,'COD_CURSO']:\n",
        "      v.append(dados.loc[j,'CARGA_HORARIA'])       \n",
        "  for j in range(len(turma.lista)):\n",
        "    if turma.turmaU[i] == dados.loc[j,'COD_CURSO']:\n",
        "      u.append(sum(v))     \n",
        "      s=0\n",
        "      while s < len(v):\n",
        "        v[s] = 0\n",
        "        s+=1\n",
        "\n",
        "for i in range(len(u)): #Uma outra forma de remo\n",
        "  if u[i] != 0:\n",
        "    x.append(u[i])  \n",
        "turma.horasT = x\n",
        "#Abaixo vamos imprimir o vetor com as horas totais referentes a cada turma."
      ],
      "execution_count": 709,
      "outputs": []
    },
    {
      "cell_type": "markdown",
      "metadata": {
        "id": "mb-79l7OH8yQ"
      },
      "source": [
        "Aqui faremos o calculo para obter o CR referente a cada código de curso"
      ]
    },
    {
      "cell_type": "code",
      "metadata": {
        "id": "YwUoMCQTN1Mn"
      },
      "source": [
        "for i in range(len(turma.turmaU)):          \n",
        "  cr=0                                           \n",
        "  for j in range(len(dados)):\n",
        "    if turma.turmaU[i] == dados.loc[j,'COD_CURSO']:\n",
        "        cr += (turma.notas[j] * dados.loc[j,'CARGA_HORARIA']) / turma.horasT[i]\n",
        "        df_turma.loc[i,'CR'] = int(cr)"
      ],
      "execution_count": 710,
      "outputs": []
    },
    {
      "cell_type": "markdown",
      "metadata": {
        "id": "ivl2r7wQHYWE"
      },
      "source": [
        "#E agora podemos enfim exibir todos os dados obtidos"
      ]
    },
    {
      "cell_type": "markdown",
      "metadata": {
        "id": "mPPnN5d9ny3M"
      },
      "source": [
        "###O CR dos alunos é:"
      ]
    },
    {
      "cell_type": "code",
      "metadata": {
        "colab": {
          "base_uri": "https://localhost:8080/",
          "height": 576
        },
        "id": "-6Cid5_9ZtOd",
        "outputId": "af9bd193-55b7-4b3b-8512-b04accedad95"
      },
      "source": [
        "df_aluno"
      ],
      "execution_count": 711,
      "outputs": [
        {
          "output_type": "execute_result",
          "data": {
            "text/html": [
              "<div>\n",
              "<style scoped>\n",
              "    .dataframe tbody tr th:only-of-type {\n",
              "        vertical-align: middle;\n",
              "    }\n",
              "\n",
              "    .dataframe tbody tr th {\n",
              "        vertical-align: top;\n",
              "    }\n",
              "\n",
              "    .dataframe thead th {\n",
              "        text-align: right;\n",
              "    }\n",
              "</style>\n",
              "<table border=\"1\" class=\"dataframe\">\n",
              "  <thead>\n",
              "    <tr style=\"text-align: right;\">\n",
              "      <th></th>\n",
              "      <th>Matricula</th>\n",
              "      <th>CR</th>\n",
              "    </tr>\n",
              "  </thead>\n",
              "  <tbody>\n",
              "    <tr>\n",
              "      <th>0</th>\n",
              "      <td>100</td>\n",
              "      <td>63</td>\n",
              "    </tr>\n",
              "    <tr>\n",
              "      <th>1</th>\n",
              "      <td>101</td>\n",
              "      <td>82</td>\n",
              "    </tr>\n",
              "    <tr>\n",
              "      <th>2</th>\n",
              "      <td>102</td>\n",
              "      <td>56</td>\n",
              "    </tr>\n",
              "    <tr>\n",
              "      <th>3</th>\n",
              "      <td>103</td>\n",
              "      <td>57</td>\n",
              "    </tr>\n",
              "    <tr>\n",
              "      <th>4</th>\n",
              "      <td>104</td>\n",
              "      <td>64</td>\n",
              "    </tr>\n",
              "    <tr>\n",
              "      <th>5</th>\n",
              "      <td>105</td>\n",
              "      <td>47</td>\n",
              "    </tr>\n",
              "    <tr>\n",
              "      <th>6</th>\n",
              "      <td>106</td>\n",
              "      <td>64</td>\n",
              "    </tr>\n",
              "    <tr>\n",
              "      <th>7</th>\n",
              "      <td>107</td>\n",
              "      <td>51</td>\n",
              "    </tr>\n",
              "    <tr>\n",
              "      <th>8</th>\n",
              "      <td>108</td>\n",
              "      <td>65</td>\n",
              "    </tr>\n",
              "    <tr>\n",
              "      <th>9</th>\n",
              "      <td>109</td>\n",
              "      <td>79</td>\n",
              "    </tr>\n",
              "    <tr>\n",
              "      <th>10</th>\n",
              "      <td>110</td>\n",
              "      <td>72</td>\n",
              "    </tr>\n",
              "    <tr>\n",
              "      <th>11</th>\n",
              "      <td>111</td>\n",
              "      <td>78</td>\n",
              "    </tr>\n",
              "    <tr>\n",
              "      <th>12</th>\n",
              "      <td>112</td>\n",
              "      <td>67</td>\n",
              "    </tr>\n",
              "    <tr>\n",
              "      <th>13</th>\n",
              "      <td>113</td>\n",
              "      <td>58</td>\n",
              "    </tr>\n",
              "    <tr>\n",
              "      <th>14</th>\n",
              "      <td>114</td>\n",
              "      <td>61</td>\n",
              "    </tr>\n",
              "    <tr>\n",
              "      <th>15</th>\n",
              "      <td>115</td>\n",
              "      <td>57</td>\n",
              "    </tr>\n",
              "    <tr>\n",
              "      <th>16</th>\n",
              "      <td>116</td>\n",
              "      <td>59</td>\n",
              "    </tr>\n",
              "  </tbody>\n",
              "</table>\n",
              "</div>"
            ],
            "text/plain": [
              "    Matricula  CR\n",
              "0         100  63\n",
              "1         101  82\n",
              "2         102  56\n",
              "3         103  57\n",
              "4         104  64\n",
              "5         105  47\n",
              "6         106  64\n",
              "7         107  51\n",
              "8         108  65\n",
              "9         109  79\n",
              "10        110  72\n",
              "11        111  78\n",
              "12        112  67\n",
              "13        113  58\n",
              "14        114  61\n",
              "15        115  57\n",
              "16        116  59"
            ]
          },
          "metadata": {
            "tags": []
          },
          "execution_count": 711
        }
      ]
    },
    {
      "cell_type": "markdown",
      "metadata": {
        "id": "ZZm9Jl4IoFuT"
      },
      "source": [
        "###O CR das turmas é:"
      ]
    },
    {
      "cell_type": "code",
      "metadata": {
        "colab": {
          "base_uri": "https://localhost:8080/",
          "height": 204
        },
        "id": "qYW8gaZzasXC",
        "outputId": "ecdf0ad8-ad34-436b-aaa0-5bb91966aa34"
      },
      "source": [
        "df_turma"
      ],
      "execution_count": 712,
      "outputs": [
        {
          "output_type": "execute_result",
          "data": {
            "text/html": [
              "<div>\n",
              "<style scoped>\n",
              "    .dataframe tbody tr th:only-of-type {\n",
              "        vertical-align: middle;\n",
              "    }\n",
              "\n",
              "    .dataframe tbody tr th {\n",
              "        vertical-align: top;\n",
              "    }\n",
              "\n",
              "    .dataframe thead th {\n",
              "        text-align: right;\n",
              "    }\n",
              "</style>\n",
              "<table border=\"1\" class=\"dataframe\">\n",
              "  <thead>\n",
              "    <tr style=\"text-align: right;\">\n",
              "      <th></th>\n",
              "      <th>CODIGO_DE_TURMA</th>\n",
              "      <th>CR</th>\n",
              "    </tr>\n",
              "  </thead>\n",
              "  <tbody>\n",
              "    <tr>\n",
              "      <th>0</th>\n",
              "      <td>4</td>\n",
              "      <td>49.0</td>\n",
              "    </tr>\n",
              "    <tr>\n",
              "      <th>1</th>\n",
              "      <td>21</td>\n",
              "      <td>74.0</td>\n",
              "    </tr>\n",
              "    <tr>\n",
              "      <th>2</th>\n",
              "      <td>31</td>\n",
              "      <td>55.0</td>\n",
              "    </tr>\n",
              "    <tr>\n",
              "      <th>3</th>\n",
              "      <td>56</td>\n",
              "      <td>67.0</td>\n",
              "    </tr>\n",
              "    <tr>\n",
              "      <th>4</th>\n",
              "      <td>103</td>\n",
              "      <td>84.0</td>\n",
              "    </tr>\n",
              "  </tbody>\n",
              "</table>\n",
              "</div>"
            ],
            "text/plain": [
              "   CODIGO_DE_TURMA    CR\n",
              "0                4  49.0\n",
              "1               21  74.0\n",
              "2               31  55.0\n",
              "3               56  67.0\n",
              "4              103  84.0"
            ]
          },
          "metadata": {
            "tags": []
          },
          "execution_count": 712
        }
      ]
    }
  ]
}