{
  "nbformat": 4,
  "nbformat_minor": 0,
  "metadata": {
    "colab": {
      "name": "Desafio.CR.UFF",
      "provenance": [],
      "collapsed_sections": [],
      "mount_file_id": "1hPF7i-2uPIZZ3M94iCUFIMgKm2UjXSsl",
      "authorship_tag": "ABX9TyOWkhJM7yayCKcXS0do+D0o",
      "include_colab_link": true
    },
    "kernelspec": {
      "display_name": "Python 3",
      "name": "python3"
    }
  },
  "cells": [
    {
      "cell_type": "markdown",
      "metadata": {
        "id": "view-in-github",
        "colab_type": "text"
      },
      "source": [
        "<a href=\"https://colab.research.google.com/github/AlessandroRossiUFF/MelhorandoDesafio3/blob/main/Desafio_CR_UFF.ipynb\" target=\"_parent\"><img src=\"https://colab.research.google.com/assets/colab-badge.svg\" alt=\"Open In Colab\"/></a>"
      ]
    },
    {
      "cell_type": "markdown",
      "metadata": {
        "id": "1yEzihxPlm5u"
      },
      "source": [
        "###Você precisa calcular o CR de alunos de uma universidade. Para isto será preciso ler de um arquivo csv a lista de notas dos alunos e, de acordo com as notas e os critérios da universidade, calcular o CR de todos os alunos. Ao final do processo, será preciso mostrar na tela o CR de todos os alunos e qual a média de CR dos cursos.\n",
        "\n",
        "Regras\n",
        "A nota do aluno vai de zero até 100;\n",
        "Uma nota é associada a uma disciplina e a um código de curso;\n",
        "O CR é a média ponderada da nota do aluno naquela turma com a carga horária daquela turma. O cálculo é:\n",
        "CR = Nota(i)*CargaHoraria(i)/TotalCargaHoraria\n",
        "\n",
        "i é a i-ésima turma de um aluno\n",
        "Utilizar Orientação a Objetos para resolver o problema\n",
        "Escolha a linguagem que achar adequada"
      ]
    },
    {
      "cell_type": "markdown",
      "metadata": {
        "id": "-seMf9_g2TzH"
      },
      "source": [
        "#A partir daqui começa a resolução."
      ]
    },
    {
      "cell_type": "markdown",
      "metadata": {
        "id": "pzXfApTSG_PB"
      },
      "source": [
        "###Vamos começar importando nosso DataFrame com o pandas,criando uma classe chamada DataBase que vai ser onde iremos trabalhar todas informações necessárias e colocando um módulo chamado CalculaCR dentro da nossa classe para operar as informações."
      ]
    },
    {
      "cell_type": "code",
      "metadata": {
        "id": "b4sooRmGom7_"
      },
      "source": [
        "import pandas as pd\n",
        "dados = pd.read_csv(\"/content/drive/MyDrive/notas.csv\", usecols=[0, 1, 2, 3, 4])\n",
        "df_aluno = pd.DataFrame({'Matricula':[],'CR':[]\n",
        "                         })\n",
        "df_turma = pd.DataFrame({'CODIGO_DE_TURMA':[],'CR':[]\n",
        "                         })\n",
        "df_aluno['Matricula'] = dados['MATRICULA'].unique()\n",
        "df_turma['CODIGO_DE_TURMA'] = dados['COD_CURSO'].unique()\n",
        "\n",
        "class DataBase:\n",
        "  lista = dados\n",
        "  turmaT = dados['COD_CURSO']                  #Todas as linhas na coluna das turmas.\n",
        "  turmaU = dados['COD_CURSO'].unique()         #Turmas sem repetição.\n",
        "  matriculaT = dados['MATRICULA']              #Todas as linhas na coluna das matriculas.\n",
        "  matriculaU = dados['MATRICULA'].unique()     #Matriculas sem repetição.\n",
        "  horas = dados['CARGA_HORARIA']               #Referente a coluna da carga horária.\n",
        "  notas = dados['NOTA']                        #Coluna das notas.\n",
        "  horasI = []\n",
        "  horasT = []\n",
        "\n",
        "  def CalculaCR(self, registroUnicos, registrosTotais, valorIndice, valorColuna, valorNotas, horas):\n",
        "    vI = []\n",
        "    vT = []\n",
        "    v = []\n",
        "    vH = valorIndice\n",
        "    for i in range(len(registroUnicos)):\n",
        "      for j in range(len(registrosTotais)):\n",
        "        if registroUnicos[i] == registrosTotais[j]: \n",
        "          v.append(dados.loc[j,'CARGA_HORARIA'])\n",
        "          dados.loc[j,'indice'] = registroUnicos[i]    #Nessa parte do método calculamos as horas totais\n",
        "      for j in range(len(registrosTotais)):            #referentes a cada parâmetro \"registro\",que nesse caso\n",
        "        if registroUnicos[i] == registrosTotais[j]:    #vai representar os códigos de turma ou os numeros de matricula.\n",
        "          dados.loc[j,'indice'] = sum(v)\n",
        "          s = 0\n",
        "          while s < len(v):\n",
        "            v[s] = 0\n",
        "            s += 1\n",
        "    valorColuna = dados['indice'].tolist()        \n",
        "    for i in range(len(valorColuna)):\n",
        "      if valorColuna[i] != 0:\n",
        "        vT.append(valorColuna[i])\n",
        "    valorColuna = vT\n",
        "\n",
        "    v = []\n",
        "    for i in range(len(registroUnicos)):                   #Nessa parte do método usamos as horas totais obtidas\n",
        "      cr = 0                                               #para calcular o CR relativo a cada turma ou matricula.\n",
        "      for j in range(len(registrosTotais)):\n",
        "        if registroUnicos[i] == registrosTotais[j]:\n",
        "          cr += (horas[j] * valorNotas[j]) / valorColuna[i]\n",
        "      v.append(cr)\n",
        "    return v\n",
        "            \n",
        "aluno = DataBase()\n",
        "turma = DataBase()"
      ],
      "execution_count": null,
      "outputs": []
    },
    {
      "cell_type": "markdown",
      "metadata": {
        "id": "Ab9JdtR1yiEi"
      },
      "source": [
        "Vamos exibir um trecho do arquivo CSV para visualização abaixo."
      ]
    },
    {
      "cell_type": "code",
      "metadata": {
        "colab": {
          "base_uri": "https://localhost:8080/",
          "height": 419
        },
        "id": "n4R9xPAIyhW_",
        "outputId": "18c6da61-fa7b-4fe7-fb40-d24f9e87ac6d"
      },
      "source": [
        "dados"
      ],
      "execution_count": null,
      "outputs": [
        {
          "output_type": "execute_result",
          "data": {
            "text/html": [
              "<div>\n",
              "<style scoped>\n",
              "    .dataframe tbody tr th:only-of-type {\n",
              "        vertical-align: middle;\n",
              "    }\n",
              "\n",
              "    .dataframe tbody tr th {\n",
              "        vertical-align: top;\n",
              "    }\n",
              "\n",
              "    .dataframe thead th {\n",
              "        text-align: right;\n",
              "    }\n",
              "</style>\n",
              "<table border=\"1\" class=\"dataframe\">\n",
              "  <thead>\n",
              "    <tr style=\"text-align: right;\">\n",
              "      <th></th>\n",
              "      <th>MATRICULA</th>\n",
              "      <th>COD_DISCIPLINA</th>\n",
              "      <th>COD_CURSO</th>\n",
              "      <th>NOTA</th>\n",
              "      <th>CARGA_HORARIA</th>\n",
              "    </tr>\n",
              "  </thead>\n",
              "  <tbody>\n",
              "    <tr>\n",
              "      <th>0</th>\n",
              "      <td>100</td>\n",
              "      <td>SEN00209</td>\n",
              "      <td>4</td>\n",
              "      <td>82</td>\n",
              "      <td>60</td>\n",
              "    </tr>\n",
              "    <tr>\n",
              "      <th>1</th>\n",
              "      <td>100</td>\n",
              "      <td>MPS00012</td>\n",
              "      <td>56</td>\n",
              "      <td>90</td>\n",
              "      <td>30</td>\n",
              "    </tr>\n",
              "    <tr>\n",
              "      <th>2</th>\n",
              "      <td>100</td>\n",
              "      <td>SGE00014</td>\n",
              "      <td>4</td>\n",
              "      <td>8</td>\n",
              "      <td>30</td>\n",
              "    </tr>\n",
              "    <tr>\n",
              "      <th>3</th>\n",
              "      <td>100</td>\n",
              "      <td>GLC00203</td>\n",
              "      <td>21</td>\n",
              "      <td>65</td>\n",
              "      <td>60</td>\n",
              "    </tr>\n",
              "    <tr>\n",
              "      <th>4</th>\n",
              "      <td>100</td>\n",
              "      <td>GCL00100</td>\n",
              "      <td>21</td>\n",
              "      <td>96</td>\n",
              "      <td>60</td>\n",
              "    </tr>\n",
              "    <tr>\n",
              "      <th>...</th>\n",
              "      <td>...</td>\n",
              "      <td>...</td>\n",
              "      <td>...</td>\n",
              "      <td>...</td>\n",
              "      <td>...</td>\n",
              "    </tr>\n",
              "    <tr>\n",
              "      <th>294</th>\n",
              "      <td>116</td>\n",
              "      <td>GLE00415</td>\n",
              "      <td>21</td>\n",
              "      <td>88</td>\n",
              "      <td>60</td>\n",
              "    </tr>\n",
              "    <tr>\n",
              "      <th>295</th>\n",
              "      <td>116</td>\n",
              "      <td>SGE00012</td>\n",
              "      <td>4</td>\n",
              "      <td>0</td>\n",
              "      <td>30</td>\n",
              "    </tr>\n",
              "    <tr>\n",
              "      <th>296</th>\n",
              "      <td>116</td>\n",
              "      <td>GLC00279</td>\n",
              "      <td>21</td>\n",
              "      <td>70</td>\n",
              "      <td>60</td>\n",
              "    </tr>\n",
              "    <tr>\n",
              "      <th>297</th>\n",
              "      <td>116</td>\n",
              "      <td>TCC00325</td>\n",
              "      <td>56</td>\n",
              "      <td>68</td>\n",
              "      <td>60</td>\n",
              "    </tr>\n",
              "    <tr>\n",
              "      <th>298</th>\n",
              "      <td>116</td>\n",
              "      <td>GMA00019</td>\n",
              "      <td>31</td>\n",
              "      <td>5</td>\n",
              "      <td>60</td>\n",
              "    </tr>\n",
              "  </tbody>\n",
              "</table>\n",
              "<p>299 rows × 5 columns</p>\n",
              "</div>"
            ],
            "text/plain": [
              "     MATRICULA COD_DISCIPLINA  COD_CURSO  NOTA  CARGA_HORARIA\n",
              "0          100       SEN00209          4    82             60\n",
              "1          100       MPS00012         56    90             30\n",
              "2          100       SGE00014          4     8             30\n",
              "3          100       GLC00203         21    65             60\n",
              "4          100       GCL00100         21    96             60\n",
              "..         ...            ...        ...   ...            ...\n",
              "294        116       GLE00415         21    88             60\n",
              "295        116       SGE00012          4     0             30\n",
              "296        116       GLC00279         21    70             60\n",
              "297        116       TCC00325         56    68             60\n",
              "298        116       GMA00019         31     5             60\n",
              "\n",
              "[299 rows x 5 columns]"
            ]
          },
          "metadata": {
            "tags": []
          },
          "execution_count": 74
        }
      ]
    },
    {
      "cell_type": "markdown",
      "metadata": {
        "id": "cAyiWrDgWsIX"
      },
      "source": [
        "###Agora que já temos a nossa classe criada com um módulo para resolver tanto o cálculo do CR referente a cada matricula quanto o cálculo do CR referente a cada código de curso,basta chamarmos o módulo com os parâmetros necessários,converter os valores obtidos para um numero inteiro para melhorar a visualização e passar os dados para um DataFrame que vai exibir as informações na tela quando for chamado."
      ]
    },
    {
      "cell_type": "markdown",
      "metadata": {
        "id": "Z513BzKB1QWz"
      },
      "source": [
        "Chamando o módulo para obter o CR referente a cada aluno."
      ]
    },
    {
      "cell_type": "code",
      "metadata": {
        "id": "zkefPtzbHWnk"
      },
      "source": [
        "mCR = aluno.CalculaCR(aluno.matriculaU, aluno.matriculaT, aluno.horasI, aluno.horasT, aluno.notas, aluno.horas)\n",
        "for i in range(len(mCR)):\n",
        "  mCR[i] = int(mCR[i])\n",
        "df_aluno['CR'] = mCR"
      ],
      "execution_count": null,
      "outputs": []
    },
    {
      "cell_type": "markdown",
      "metadata": {
        "id": "ir9Drku91W7k"
      },
      "source": [
        "Chamando o módulo para obter o CR referente a cada turma."
      ]
    },
    {
      "cell_type": "code",
      "metadata": {
        "id": "E2i9eC7olIrP"
      },
      "source": [
        "tCR = aluno.CalculaCR(turma.turmaU, turma.turmaT, turma.horasI, turma.horasT, aluno.notas, turma.horas)\n",
        "for i in range(len(tCR)):\n",
        "  tCR[i] = int(tCR[i])\n",
        "df_turma['CR'] = tCR\n",
        "\n",
        "aleatorioTurma = df_turma['CODIGO_DE_TURMA']                    #Aqui vamos ajeitar o \"df_turma\" para\n",
        "ordenadoTurma = sorted(df_turma['CODIGO_DE_TURMA'].unique())    #exibir os códigos de turma em ordem crescente\n",
        "aleatorioCR = df_turma['CR']                                    #ao invéz de em uma ordem aleatória.\n",
        "ordenandoCR = []\n",
        "for i in range(len(df_turma)):\n",
        "  for j in range(len(df_turma)):\n",
        "    if ordenadoTurma[i] == aleatorioTurma[j]:\n",
        "      ordenandoCR.append(aleatorioCR[j])\n",
        "df_turma['CR'] = ordenandoCR\n",
        "df_turma['CODIGO_DE_TURMA'] = ordenadoTurma"
      ],
      "execution_count": null,
      "outputs": []
    },
    {
      "cell_type": "markdown",
      "metadata": {
        "id": "lsspeuug0QVq"
      },
      "source": [
        "##Agora vamos usar as informações obtidas da nossa classe para exibir os resultados."
      ]
    },
    {
      "cell_type": "markdown",
      "metadata": {
        "id": "sH4dfjR10Far"
      },
      "source": [
        "Aqui temos o CR referente a cada código de turma."
      ]
    },
    {
      "cell_type": "code",
      "metadata": {
        "colab": {
          "base_uri": "https://localhost:8080/",
          "height": 204
        },
        "id": "BxhCG6uAxXwm",
        "outputId": "96c76d73-a2db-48e1-b430-50c872d9711a"
      },
      "source": [
        "df_turma"
      ],
      "execution_count": null,
      "outputs": [
        {
          "output_type": "execute_result",
          "data": {
            "text/html": [
              "<div>\n",
              "<style scoped>\n",
              "    .dataframe tbody tr th:only-of-type {\n",
              "        vertical-align: middle;\n",
              "    }\n",
              "\n",
              "    .dataframe tbody tr th {\n",
              "        vertical-align: top;\n",
              "    }\n",
              "\n",
              "    .dataframe thead th {\n",
              "        text-align: right;\n",
              "    }\n",
              "</style>\n",
              "<table border=\"1\" class=\"dataframe\">\n",
              "  <thead>\n",
              "    <tr style=\"text-align: right;\">\n",
              "      <th></th>\n",
              "      <th>CODIGO_DE_TURMA</th>\n",
              "      <th>CR</th>\n",
              "    </tr>\n",
              "  </thead>\n",
              "  <tbody>\n",
              "    <tr>\n",
              "      <th>0</th>\n",
              "      <td>4</td>\n",
              "      <td>49</td>\n",
              "    </tr>\n",
              "    <tr>\n",
              "      <th>1</th>\n",
              "      <td>21</td>\n",
              "      <td>74</td>\n",
              "    </tr>\n",
              "    <tr>\n",
              "      <th>2</th>\n",
              "      <td>31</td>\n",
              "      <td>55</td>\n",
              "    </tr>\n",
              "    <tr>\n",
              "      <th>3</th>\n",
              "      <td>56</td>\n",
              "      <td>67</td>\n",
              "    </tr>\n",
              "    <tr>\n",
              "      <th>4</th>\n",
              "      <td>103</td>\n",
              "      <td>84</td>\n",
              "    </tr>\n",
              "  </tbody>\n",
              "</table>\n",
              "</div>"
            ],
            "text/plain": [
              "   CODIGO_DE_TURMA  CR\n",
              "0                4  49\n",
              "1               21  74\n",
              "2               31  55\n",
              "3               56  67\n",
              "4              103  84"
            ]
          },
          "metadata": {
            "tags": []
          },
          "execution_count": 77
        }
      ]
    },
    {
      "cell_type": "markdown",
      "metadata": {
        "id": "xvKoj3Zpz_BQ"
      },
      "source": [
        "E aqui temos o CR referente a cada número de matricula."
      ]
    },
    {
      "cell_type": "code",
      "metadata": {
        "colab": {
          "base_uri": "https://localhost:8080/",
          "height": 576
        },
        "id": "rLfz9Z-1xmkT",
        "outputId": "3f3a3145-fc6b-4789-cdd0-9833d55da869"
      },
      "source": [
        "df_aluno"
      ],
      "execution_count": null,
      "outputs": [
        {
          "output_type": "execute_result",
          "data": {
            "text/html": [
              "<div>\n",
              "<style scoped>\n",
              "    .dataframe tbody tr th:only-of-type {\n",
              "        vertical-align: middle;\n",
              "    }\n",
              "\n",
              "    .dataframe tbody tr th {\n",
              "        vertical-align: top;\n",
              "    }\n",
              "\n",
              "    .dataframe thead th {\n",
              "        text-align: right;\n",
              "    }\n",
              "</style>\n",
              "<table border=\"1\" class=\"dataframe\">\n",
              "  <thead>\n",
              "    <tr style=\"text-align: right;\">\n",
              "      <th></th>\n",
              "      <th>Matricula</th>\n",
              "      <th>CR</th>\n",
              "    </tr>\n",
              "  </thead>\n",
              "  <tbody>\n",
              "    <tr>\n",
              "      <th>0</th>\n",
              "      <td>100</td>\n",
              "      <td>63</td>\n",
              "    </tr>\n",
              "    <tr>\n",
              "      <th>1</th>\n",
              "      <td>101</td>\n",
              "      <td>82</td>\n",
              "    </tr>\n",
              "    <tr>\n",
              "      <th>2</th>\n",
              "      <td>102</td>\n",
              "      <td>56</td>\n",
              "    </tr>\n",
              "    <tr>\n",
              "      <th>3</th>\n",
              "      <td>103</td>\n",
              "      <td>57</td>\n",
              "    </tr>\n",
              "    <tr>\n",
              "      <th>4</th>\n",
              "      <td>104</td>\n",
              "      <td>64</td>\n",
              "    </tr>\n",
              "    <tr>\n",
              "      <th>5</th>\n",
              "      <td>105</td>\n",
              "      <td>47</td>\n",
              "    </tr>\n",
              "    <tr>\n",
              "      <th>6</th>\n",
              "      <td>106</td>\n",
              "      <td>64</td>\n",
              "    </tr>\n",
              "    <tr>\n",
              "      <th>7</th>\n",
              "      <td>107</td>\n",
              "      <td>51</td>\n",
              "    </tr>\n",
              "    <tr>\n",
              "      <th>8</th>\n",
              "      <td>108</td>\n",
              "      <td>65</td>\n",
              "    </tr>\n",
              "    <tr>\n",
              "      <th>9</th>\n",
              "      <td>109</td>\n",
              "      <td>79</td>\n",
              "    </tr>\n",
              "    <tr>\n",
              "      <th>10</th>\n",
              "      <td>110</td>\n",
              "      <td>72</td>\n",
              "    </tr>\n",
              "    <tr>\n",
              "      <th>11</th>\n",
              "      <td>111</td>\n",
              "      <td>78</td>\n",
              "    </tr>\n",
              "    <tr>\n",
              "      <th>12</th>\n",
              "      <td>112</td>\n",
              "      <td>67</td>\n",
              "    </tr>\n",
              "    <tr>\n",
              "      <th>13</th>\n",
              "      <td>113</td>\n",
              "      <td>58</td>\n",
              "    </tr>\n",
              "    <tr>\n",
              "      <th>14</th>\n",
              "      <td>114</td>\n",
              "      <td>61</td>\n",
              "    </tr>\n",
              "    <tr>\n",
              "      <th>15</th>\n",
              "      <td>115</td>\n",
              "      <td>57</td>\n",
              "    </tr>\n",
              "    <tr>\n",
              "      <th>16</th>\n",
              "      <td>116</td>\n",
              "      <td>59</td>\n",
              "    </tr>\n",
              "  </tbody>\n",
              "</table>\n",
              "</div>"
            ],
            "text/plain": [
              "    Matricula  CR\n",
              "0         100  63\n",
              "1         101  82\n",
              "2         102  56\n",
              "3         103  57\n",
              "4         104  64\n",
              "5         105  47\n",
              "6         106  64\n",
              "7         107  51\n",
              "8         108  65\n",
              "9         109  79\n",
              "10        110  72\n",
              "11        111  78\n",
              "12        112  67\n",
              "13        113  58\n",
              "14        114  61\n",
              "15        115  57\n",
              "16        116  59"
            ]
          },
          "metadata": {
            "tags": []
          },
          "execution_count": 78
        }
      ]
    }
  ]
}